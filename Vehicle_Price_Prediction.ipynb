{
 "cells": [
  {
   "cell_type": "code",
   "execution_count": 6,
   "metadata": {
    "collapsed": false
   },
   "outputs": [
    {
     "name": "stdout",
     "output_type": "stream",
     "text": [
      "Populating the interactive namespace from numpy and matplotlib\n"
     ]
    }
   ],
   "source": [
    "%pylab inline\n",
    "import pandas as pd"
   ]
  },
  {
   "cell_type": "code",
   "execution_count": 7,
   "metadata": {
    "collapsed": false
   },
   "outputs": [
    {
     "name": "stderr",
     "output_type": "stream",
     "text": [
      "/Users/weizhicheung/anaconda2/lib/python2.7/site-packages/IPython/core/interactiveshell.py:2717: DtypeWarning: Columns (13,39,40,41) have mixed types. Specify dtype option on import or set low_memory=False.\n",
      "  interactivity=interactivity, compiler=compiler, result=result)\n"
     ]
    }
   ],
   "source": [
    "train = pd.read_csv('data/Train.csv')"
   ]
  },
  {
   "cell_type": "markdown",
   "metadata": {},
   "source": [
    "# EDA\n",
    "\n",
    "## Size of data."
   ]
  },
  {
   "cell_type": "code",
   "execution_count": 8,
   "metadata": {
    "collapsed": false
   },
   "outputs": [
    {
     "data": {
      "text/plain": [
       "(401125, 53)"
      ]
     },
     "execution_count": 8,
     "metadata": {},
     "output_type": "execute_result"
    }
   ],
   "source": [
    "train.shape"
   ]
  },
  {
   "cell_type": "markdown",
   "metadata": {},
   "source": [
    "## What do my data look like?"
   ]
  },
  {
   "cell_type": "code",
   "execution_count": 9,
   "metadata": {
    "collapsed": true
   },
   "outputs": [],
   "source": [
    "from sklearn.pipeline import Pipeline"
   ]
  },
  {
   "cell_type": "code",
   "execution_count": 10,
   "metadata": {
    "collapsed": true
   },
   "outputs": [],
   "source": [
    "Pipeline?"
   ]
  },
  {
   "cell_type": "code",
   "execution_count": 11,
   "metadata": {
    "collapsed": false
   },
   "outputs": [
    {
     "name": "stdout",
     "output_type": "stream",
     "text": [
      "<class 'pandas.core.frame.DataFrame'>\n",
      "RangeIndex: 401125 entries, 0 to 401124\n",
      "Data columns (total 53 columns):\n",
      "SalesID                     401125 non-null int64\n",
      "SalePrice                   401125 non-null int64\n",
      "MachineID                   401125 non-null int64\n",
      "ModelID                     401125 non-null int64\n",
      "datasource                  401125 non-null int64\n",
      "auctioneerID                380989 non-null float64\n",
      "YearMade                    401125 non-null int64\n",
      "MachineHoursCurrentMeter    142765 non-null float64\n",
      "UsageBand                   69639 non-null object\n",
      "saledate                    401125 non-null object\n",
      "fiModelDesc                 401125 non-null object\n",
      "fiBaseModel                 401125 non-null object\n",
      "fiSecondaryDesc             263934 non-null object\n",
      "fiModelSeries               56908 non-null object\n",
      "fiModelDescriptor           71919 non-null object\n",
      "ProductSize                 190350 non-null object\n",
      "fiProductClassDesc          401125 non-null object\n",
      "state                       401125 non-null object\n",
      "ProductGroup                401125 non-null object\n",
      "ProductGroupDesc            401125 non-null object\n",
      "Drive_System                104361 non-null object\n",
      "Enclosure                   400800 non-null object\n",
      "Forks                       192077 non-null object\n",
      "Pad_Type                    79134 non-null object\n",
      "Ride_Control                148606 non-null object\n",
      "Stick                       79134 non-null object\n",
      "Transmission                183230 non-null object\n",
      "Turbocharged                79134 non-null object\n",
      "Blade_Extension             25219 non-null object\n",
      "Blade_Width                 25219 non-null object\n",
      "Enclosure_Type              25219 non-null object\n",
      "Engine_Horsepower           25219 non-null object\n",
      "Hydraulics                  320570 non-null object\n",
      "Pushblock                   25219 non-null object\n",
      "Ripper                      104137 non-null object\n",
      "Scarifier                   25230 non-null object\n",
      "Tip_Control                 25219 non-null object\n",
      "Tire_Size                   94718 non-null object\n",
      "Coupler                     213952 non-null object\n",
      "Coupler_System              43458 non-null object\n",
      "Grouser_Tracks              43362 non-null object\n",
      "Hydraulics_Flow             43362 non-null object\n",
      "Track_Type                  99153 non-null object\n",
      "Undercarriage_Pad_Width     99872 non-null object\n",
      "Stick_Length                99218 non-null object\n",
      "Thumb                       99288 non-null object\n",
      "Pattern_Changer             99218 non-null object\n",
      "Grouser_Type                99153 non-null object\n",
      "Backhoe_Mounting            78672 non-null object\n",
      "Blade_Type                  79833 non-null object\n",
      "Travel_Controls             79834 non-null object\n",
      "Differential_Type           69411 non-null object\n",
      "Steering_Controls           69369 non-null object\n",
      "dtypes: float64(2), int64(6), object(45)\n",
      "memory usage: 162.2+ MB\n"
     ]
    }
   ],
   "source": [
    "train.info()"
   ]
  },
  {
   "cell_type": "markdown",
   "metadata": {},
   "source": [
    "Yuck, a lot of these columns have a ton of missing data. That's going to make them hard to deal with.\n",
    "\n",
    "As a first approach let's just keep the model without missing vals."
   ]
  },
  {
   "cell_type": "code",
   "execution_count": 12,
   "metadata": {
    "collapsed": false
   },
   "outputs": [
    {
     "data": {
      "text/plain": [
       "(401125, 13)"
      ]
     },
     "execution_count": 12,
     "metadata": {},
     "output_type": "execute_result"
    }
   ],
   "source": [
    "column_counts = train.apply(lambda x: x.count(), axis=0)\n",
    "keep_columns = column_counts[column_counts == column_counts.max()]\n",
    "dense_train = train.ix[:,keep_columns.index]\n",
    "dense_train.shape"
   ]
  },
  {
   "cell_type": "markdown",
   "metadata": {},
   "source": [
    "Ok, so now for a first pass we can worry about just 13 columns."
   ]
  },
  {
   "cell_type": "code",
   "execution_count": 13,
   "metadata": {
    "collapsed": false
   },
   "outputs": [
    {
     "name": "stdout",
     "output_type": "stream",
     "text": [
      "<class 'pandas.core.frame.DataFrame'>\n",
      "RangeIndex: 401125 entries, 0 to 401124\n",
      "Data columns (total 13 columns):\n",
      "SalesID               401125 non-null int64\n",
      "SalePrice             401125 non-null int64\n",
      "MachineID             401125 non-null int64\n",
      "ModelID               401125 non-null int64\n",
      "datasource            401125 non-null int64\n",
      "YearMade              401125 non-null int64\n",
      "saledate              401125 non-null object\n",
      "fiModelDesc           401125 non-null object\n",
      "fiBaseModel           401125 non-null object\n",
      "fiProductClassDesc    401125 non-null object\n",
      "state                 401125 non-null object\n",
      "ProductGroup          401125 non-null object\n",
      "ProductGroupDesc      401125 non-null object\n",
      "dtypes: int64(6), object(7)\n",
      "memory usage: 39.8+ MB\n"
     ]
    }
   ],
   "source": [
    "dense_train.info()"
   ]
  },
  {
   "cell_type": "markdown",
   "metadata": {},
   "source": [
    "Ok, so let's build a model that focuses only on these characteristics.\n",
    "\n",
    "First lets make sure we don't treat ids as Ints."
   ]
  },
  {
   "cell_type": "code",
   "execution_count": 14,
   "metadata": {
    "collapsed": false
   },
   "outputs": [
    {
     "name": "stdout",
     "output_type": "stream",
     "text": [
      "<class 'pandas.core.frame.DataFrame'>\n",
      "RangeIndex: 401125 entries, 0 to 401124\n",
      "Data columns (total 13 columns):\n",
      "SalesID               401125 non-null object\n",
      "SalePrice             401125 non-null int64\n",
      "MachineID             401125 non-null object\n",
      "ModelID               401125 non-null object\n",
      "datasource            401125 non-null int64\n",
      "YearMade              401125 non-null int64\n",
      "saledate              401125 non-null object\n",
      "fiModelDesc           401125 non-null object\n",
      "fiBaseModel           401125 non-null object\n",
      "fiProductClassDesc    401125 non-null object\n",
      "state                 401125 non-null object\n",
      "ProductGroup          401125 non-null object\n",
      "ProductGroupDesc      401125 non-null object\n",
      "dtypes: int64(3), object(10)\n",
      "memory usage: 39.8+ MB\n"
     ]
    }
   ],
   "source": [
    "id_cols = ['SalesID', 'MachineID', 'ModelID']\n",
    "dense_train[id_cols] = dense_train[id_cols].astype('str', inplace=True)\n",
    "dense_train.info()"
   ]
  },
  {
   "cell_type": "markdown",
   "metadata": {},
   "source": [
    "I want to do some EDA to see what these values are all about."
   ]
  },
  {
   "cell_type": "code",
   "execution_count": 15,
   "metadata": {
    "collapsed": false
   },
   "outputs": [
    {
     "data": {
      "text/html": [
       "<div>\n",
       "<table border=\"1\" class=\"dataframe\">\n",
       "  <thead>\n",
       "    <tr style=\"text-align: right;\">\n",
       "      <th></th>\n",
       "      <th>SalePrice</th>\n",
       "      <th>datasource</th>\n",
       "      <th>YearMade</th>\n",
       "    </tr>\n",
       "  </thead>\n",
       "  <tbody>\n",
       "    <tr>\n",
       "      <th>count</th>\n",
       "      <td>401125.000000</td>\n",
       "      <td>401125.000000</td>\n",
       "      <td>401125.000000</td>\n",
       "    </tr>\n",
       "    <tr>\n",
       "      <th>mean</th>\n",
       "      <td>31099.712848</td>\n",
       "      <td>134.665810</td>\n",
       "      <td>1899.156901</td>\n",
       "    </tr>\n",
       "    <tr>\n",
       "      <th>std</th>\n",
       "      <td>23036.898502</td>\n",
       "      <td>8.962237</td>\n",
       "      <td>291.797469</td>\n",
       "    </tr>\n",
       "    <tr>\n",
       "      <th>min</th>\n",
       "      <td>4750.000000</td>\n",
       "      <td>121.000000</td>\n",
       "      <td>1000.000000</td>\n",
       "    </tr>\n",
       "    <tr>\n",
       "      <th>25%</th>\n",
       "      <td>14500.000000</td>\n",
       "      <td>132.000000</td>\n",
       "      <td>1985.000000</td>\n",
       "    </tr>\n",
       "    <tr>\n",
       "      <th>50%</th>\n",
       "      <td>24000.000000</td>\n",
       "      <td>132.000000</td>\n",
       "      <td>1995.000000</td>\n",
       "    </tr>\n",
       "    <tr>\n",
       "      <th>75%</th>\n",
       "      <td>40000.000000</td>\n",
       "      <td>136.000000</td>\n",
       "      <td>2000.000000</td>\n",
       "    </tr>\n",
       "    <tr>\n",
       "      <th>max</th>\n",
       "      <td>142000.000000</td>\n",
       "      <td>172.000000</td>\n",
       "      <td>2013.000000</td>\n",
       "    </tr>\n",
       "  </tbody>\n",
       "</table>\n",
       "</div>"
      ],
      "text/plain": [
       "           SalePrice     datasource       YearMade\n",
       "count  401125.000000  401125.000000  401125.000000\n",
       "mean    31099.712848     134.665810    1899.156901\n",
       "std     23036.898502       8.962237     291.797469\n",
       "min      4750.000000     121.000000    1000.000000\n",
       "25%     14500.000000     132.000000    1985.000000\n",
       "50%     24000.000000     132.000000    1995.000000\n",
       "75%     40000.000000     136.000000    2000.000000\n",
       "max    142000.000000     172.000000    2013.000000"
      ]
     },
     "execution_count": 15,
     "metadata": {},
     "output_type": "execute_result"
    }
   ],
   "source": [
    "dense_train.describe()"
   ]
  },
  {
   "cell_type": "markdown",
   "metadata": {},
   "source": [
    "Issues:\n",
    "datasource is an ID\n",
    "YearMade has some outliers.\n",
    "\n",
    "## Address YearMade outliers."
   ]
  },
  {
   "cell_type": "code",
   "execution_count": 16,
   "metadata": {
    "collapsed": false
   },
   "outputs": [
    {
     "data": {
      "text/plain": [
       "<matplotlib.axes._subplots.AxesSubplot at 0x10f994c50>"
      ]
     },
     "execution_count": 16,
     "metadata": {},
     "output_type": "execute_result"
    },
    {
     "data": {
      "image/png": "[encoded data removed]",
      "text/plain": [
       "<matplotlib.figure.Figure at 0x10f9946d0>"
      ]
     },
     "metadata": {},
     "output_type": "display_data"
    }
   ],
   "source": [
    "dense_train.YearMade.hist()"
   ]
  },
  {
   "cell_type": "markdown",
   "metadata": {},
   "source": [
    "Oops, nothing to see there. Let's try:"
   ]
  },
  {
   "cell_type": "code",
   "execution_count": 17,
   "metadata": {
    "collapsed": false
   },
   "outputs": [
    {
     "data": {
      "text/plain": [
       "1000    38185\n",
       "1998    21221\n",
       "2005    20587\n",
       "2004    20020\n",
       "1997    18905\n",
       "1999    18767\n",
       "2000    16742\n",
       "1996    16691\n",
       "1995    15528\n",
       "1994    14199\n",
       "2003    14161\n",
       "2001    12938\n",
       "2006    12215\n",
       "2002    12031\n",
       "1993    10971\n",
       "1989    10693\n",
       "1988    10395\n",
       "1990    10250\n",
       "1987    10105\n",
       "1992     7587\n",
       "1986     7508\n",
       "1991     7361\n",
       "1985     6475\n",
       "1984     6111\n",
       "1978     5623\n",
       "1979     5557\n",
       "1980     4677\n",
       "1983     4557\n",
       "2007     4523\n",
       "1977     4379\n",
       "        ...  \n",
       "1967     1086\n",
       "1966      943\n",
       "1965      667\n",
       "1964      414\n",
       "1963      246\n",
       "2009      168\n",
       "1962      143\n",
       "1919      127\n",
       "1961       99\n",
       "1960       97\n",
       "1959       28\n",
       "2010       25\n",
       "1958       22\n",
       "1956       20\n",
       "2011       18\n",
       "1920       17\n",
       "1957       15\n",
       "1950        8\n",
       "1951        7\n",
       "1953        6\n",
       "1952        6\n",
       "1955        5\n",
       "1954        3\n",
       "1948        3\n",
       "2012        1\n",
       "1949        1\n",
       "1947        1\n",
       "1942        1\n",
       "1937        1\n",
       "2013        1\n",
       "Name: YearMade, dtype: int64"
      ]
     },
     "execution_count": 17,
     "metadata": {},
     "output_type": "execute_result"
    }
   ],
   "source": [
    "dense_train.YearMade.value_counts()"
   ]
  },
  {
   "cell_type": "markdown",
   "metadata": {},
   "source": [
    "This is not great. The most frequently occurring value for YearMade is nonsense. These are probably actually missing values.\n",
    "\n",
    "We have a few options here. We could just drop these values, if they're a small enough percentage of our overall data that might be ok."
   ]
  },
  {
   "cell_type": "code",
   "execution_count": 18,
   "metadata": {
    "collapsed": false
   },
   "outputs": [
    {
     "data": {
      "text/plain": [
       "1000    0.095195\n",
       "1998    0.052904\n",
       "2005    0.051323\n",
       "2004    0.049910\n",
       "1997    0.047130\n",
       "Name: YearMade, dtype: float64"
      ]
     },
     "execution_count": 18,
     "metadata": {},
     "output_type": "execute_result"
    }
   ],
   "source": [
    "(dense_train.YearMade.value_counts() / dense_train.YearMade.count()).head()"
   ]
  },
  {
   "cell_type": "markdown",
   "metadata": {},
   "source": [
    "Ok, it's about 10% of our data. That's not ideal so perhaps we don't want to drop it, but for some kinds of models we're going to want to do something. Let's try replacing those values with the mode, and creating an indicator column to note that we have done so, so we don't lose any information that might be associated with it being missing."
   ]
  },
  {
   "cell_type": "code",
   "execution_count": 19,
   "metadata": {
    "collapsed": false
   },
   "outputs": [],
   "source": [
    "condition = dense_train.YearMade > 1900\n",
    "mode = dense_train.YearMade[condition].mode()\n",
    "dense_train.ix[~condition, 'YearMade'] = mode"
   ]
  },
  {
   "cell_type": "code",
   "execution_count": 20,
   "metadata": {
    "collapsed": false
   },
   "outputs": [
    {
     "data": {
      "text/plain": [
       "1998.0    21221\n",
       "2005.0    20587\n",
       "2004.0    20020\n",
       "1997.0    18905\n",
       "1999.0    18767\n",
       "2000.0    16742\n",
       "1996.0    16691\n",
       "1995.0    15528\n",
       "1994.0    14199\n",
       "2003.0    14161\n",
       "2001.0    12938\n",
       "2006.0    12215\n",
       "2002.0    12031\n",
       "1993.0    10971\n",
       "1989.0    10693\n",
       "1988.0    10395\n",
       "1990.0    10250\n",
       "1987.0    10105\n",
       "1992.0     7587\n",
       "1986.0     7508\n",
       "1991.0     7361\n",
       "1985.0     6475\n",
       "1984.0     6111\n",
       "1978.0     5623\n",
       "1979.0     5557\n",
       "1980.0     4677\n",
       "1983.0     4557\n",
       "2007.0     4523\n",
       "1977.0     4379\n",
       "1981.0     4144\n",
       "          ...  \n",
       "1967.0     1086\n",
       "1966.0      943\n",
       "1965.0      667\n",
       "1964.0      414\n",
       "1963.0      246\n",
       "2009.0      168\n",
       "1962.0      143\n",
       "1919.0      127\n",
       "1961.0       99\n",
       "1960.0       97\n",
       "1959.0       28\n",
       "2010.0       25\n",
       "1958.0       22\n",
       "1956.0       20\n",
       "2011.0       18\n",
       "1920.0       17\n",
       "1957.0       15\n",
       "1950.0        8\n",
       "1951.0        7\n",
       "1953.0        6\n",
       "1952.0        6\n",
       "1955.0        5\n",
       "1954.0        3\n",
       "1948.0        3\n",
       "1942.0        1\n",
       "1937.0        1\n",
       "2012.0        1\n",
       "1947.0        1\n",
       "1949.0        1\n",
       "2013.0        1\n",
       "Name: YearMade, dtype: int64"
      ]
     },
     "execution_count": 20,
     "metadata": {},
     "output_type": "execute_result"
    }
   ],
   "source": [
    "dense_train.YearMade.value_counts()"
   ]
  },
  {
   "cell_type": "markdown",
   "metadata": {},
   "source": [
    "# Dependent Variable\n",
    "\n",
    "Let's see what we can learn about our dependent variable:"
   ]
  },
  {
   "cell_type": "code",
   "execution_count": 21,
   "metadata": {
    "collapsed": false
   },
   "outputs": [
    {
     "data": {
      "text/plain": [
       "<matplotlib.axes._subplots.AxesSubplot at 0x114fcc7d0>"
      ]
     },
     "execution_count": 21,
     "metadata": {},
     "output_type": "execute_result"
    },
    {
     "data": {
      "image/png": "[encoded data removed]",
      "text/plain": [
       "<matplotlib.figure.Figure at 0x10f974e10>"
      ]
     },
     "metadata": {},
     "output_type": "display_data"
    }
   ],
   "source": [
    "dense_train.SalePrice.hist()"
   ]
  },
  {
   "cell_type": "markdown",
   "metadata": {},
   "source": [
    "This picture is a little bit surprising, it looks more like an exponential distribution than anything else. We might expect a more normal distribution for any given vehicle, but evidently our data set is so full of different types of vehicles that we get this shape. There are also apparently a lot of low-priced vehicles.\n",
    "\n",
    "Since our RMSLE error metric penalizes underpredictions, we'll want to make sure that we do well on the right tail of this distribution and don't just focus on the common vehicles."
   ]
  },
  {
   "cell_type": "markdown",
   "metadata": {},
   "source": [
    "# Let's try to build our first model.\n",
    "\n",
    "We've taken care of some outlier values in the model year, but let's step back and talk about why. \n",
    "\n",
    "Since we're talking about used equipment here, there are a few things that I believe matter to the price. If I were to rank them I would list them from most to least important as:\n",
    "\n",
    "1. What is a reasonable price for this vehicle? We don't have any columns in our data that tell us this, but the idea is that there are probably very different prices paid for more or less expensive pieces of equipment. If I knew what original cost of the vehicles was, this, along with the age would probably help me. As it is, I can probably get a estimate of the price by taking an average of similar vehicles sold recently. What the best notion of similar should be is unclear... so we may want to experiement in this regard.\n",
    "2. The age of the vehicle. Surely older vehicles cost less than newer ones right? We have the model year, but we'll need to compute the age on the date of sale for best results.\n",
    "3. How heavily used the vehicle is. Surely more heavily used vehicles are less expensive. Unfortunately there are a lot of missing values in the machinehoursusage. Let's investigate.\n",
    "\n",
    "As we discover things that are relevant we will include them in our more rigorous model file in heavy_equipment_model.py. That's where will ultimately do cross validation and use pipelining to assure that our model works on unseen data."
   ]
  },
  {
   "cell_type": "code",
   "execution_count": 22,
   "metadata": {
    "collapsed": false
   },
   "outputs": [
    {
     "name": "stdout",
     "output_type": "stream",
     "text": [
      "73126  zero values\n",
      "258360  missing values\n"
     ]
    }
   ],
   "source": [
    "mhcm = train.MachineHoursCurrentMeter\n",
    "print (mhcm == 0).sum(), ' zero values'\n",
    "print mhcm.isnull().sum(), ' missing values'"
   ]
  },
  {
   "cell_type": "markdown",
   "metadata": {},
   "source": [
    "So in addition to the missing values, there are a lot of values set at zero, which probably represent missing vals too."
   ]
  },
  {
   "cell_type": "code",
   "execution_count": 23,
   "metadata": {
    "collapsed": false
   },
   "outputs": [
    {
     "data": {
      "text/plain": [
       "<matplotlib.axes._subplots.AxesSubplot at 0x1154eb6d0>"
      ]
     },
     "execution_count": 23,
     "metadata": {},
     "output_type": "execute_result"
    },
    {
     "data": {
      "image/png": "[encoded data removed]",
      "text/plain": [
       "<matplotlib.figure.Figure at 0x1156a22d0>"
      ]
     },
     "metadata": {},
     "output_type": "display_data"
    }
   ],
   "source": [
    "mhcm.hist()"
   ]
  },
  {
   "cell_type": "markdown",
   "metadata": {},
   "source": [
    "This kind of worthless histogram can happen when there are outliers. We know there are also a lot of zeros, so let's clean those out and try to get a sense of the shape in a reasonably dense range."
   ]
  },
  {
   "cell_type": "code",
   "execution_count": 24,
   "metadata": {
    "collapsed": false
   },
   "outputs": [
    {
     "data": {
      "text/plain": [
       "<matplotlib.axes._subplots.AxesSubplot at 0x115751190>"
      ]
     },
     "execution_count": 24,
     "metadata": {},
     "output_type": "execute_result"
    },
    {
     "data": {
      "image/png": "[encoded data removed]",
      "text/plain": [
       "<matplotlib.figure.Figure at 0x11596e150>"
      ]
     },
     "metadata": {},
     "output_type": "display_data"
    }
   ],
   "source": [
    "mhcm.ix[(mhcm>0) & (mhcm<50000)].hist()"
   ]
  },
  {
   "cell_type": "markdown",
   "metadata": {},
   "source": [
    "Ok this sort of worked, but it looks like we have a really long tail of outliers, which is going to be cause for concern. How can we effectively learn the behavior of our model when the data takes on extreme values but only infrequently?"
   ]
  },
  {
   "cell_type": "code",
   "execution_count": 25,
   "metadata": {
    "collapsed": false
   },
   "outputs": [
    {
     "data": {
      "text/plain": [
       "426"
      ]
     },
     "execution_count": 25,
     "metadata": {},
     "output_type": "execute_result"
    }
   ],
   "source": [
    "(mhcm > 100000).sum()"
   ]
  },
  {
   "cell_type": "markdown",
   "metadata": {},
   "source": [
    "A boxplot lets us see the issue more clearly:"
   ]
  },
  {
   "cell_type": "code",
   "execution_count": 26,
   "metadata": {
    "collapsed": false
   },
   "outputs": [
    {
     "data": {
      "text/plain": [
       "<matplotlib.axes._subplots.AxesSubplot at 0x1159ba550>"
      ]
     },
     "execution_count": 26,
     "metadata": {},
     "output_type": "execute_result"
    },
    {
     "data": {
      "image/png": "[encoded data removed]",
      "text/plain": [
       "<matplotlib.figure.Figure at 0x115a08d50>"
      ]
     },
     "metadata": {},
     "output_type": "display_data"
    }
   ],
   "source": [
    "mhcm.plot(kind='box')"
   ]
  },
  {
   "cell_type": "markdown",
   "metadata": {},
   "source": [
    "It's not obvious these things are outliers in the sense that they're just crazy data, it seems possible there are some really heavily used machines in the auction occassionally. We could consider ignoring these things, there are only a few hundred, but we'll certainly want to keep these in mind as we proceed.\n",
    "\n",
    "\n",
    "For now, let's not focus on the hours, this data is looking very difficult, so let's try to build an initial model that doesn't include it.\n",
    "\n",
    "For our age, we can calculate this by taking the difference between the saledate and the year made.\n"
   ]
  },
  {
   "cell_type": "code",
   "execution_count": 27,
   "metadata": {
    "collapsed": false
   },
   "outputs": [],
   "source": [
    "dense_train['saledate_converted'] = pd.to_datetime(dense_train.saledate)\n"
   ]
  },
  {
   "cell_type": "code",
   "execution_count": 28,
   "metadata": {
    "collapsed": false
   },
   "outputs": [
    {
     "data": {
      "text/plain": [
       "<matplotlib.axes._subplots.AxesSubplot at 0x115a5c950>"
      ]
     },
     "execution_count": 28,
     "metadata": {},
     "output_type": "execute_result"
    },
    {
     "data": {
      "image/png": "[encoded data removed]",
      "text/plain": [
       "<matplotlib.figure.Figure at 0x115d0a150>"
      ]
     },
     "metadata": {},
     "output_type": "display_data"
    }
   ],
   "source": [
    "dense_train['equipment_age'] = dense_train.saledate_converted.dt.year - dense_train.YearMade\n",
    "dense_train.equipment_age.hist()"
   ]
  },
  {
   "cell_type": "markdown",
   "metadata": {},
   "source": [
    "Ok, this graph looks pretty reasonable, but maybe a few outliers on both sides:"
   ]
  },
  {
   "cell_type": "code",
   "execution_count": 29,
   "metadata": {
    "collapsed": false
   },
   "outputs": [
    {
     "data": {
      "text/plain": [
       "count    362940.000000\n",
       "mean         10.220477\n",
       "std           7.569398\n",
       "min         -12.000000\n",
       "25%           5.000000\n",
       "50%           8.000000\n",
       "75%          13.000000\n",
       "max          92.000000\n",
       "Name: equipment_age, dtype: float64"
      ]
     },
     "execution_count": 29,
     "metadata": {},
     "output_type": "execute_result"
    }
   ],
   "source": [
    "dense_train.equipment_age.describe()"
   ]
  },
  {
   "cell_type": "code",
   "execution_count": 30,
   "metadata": {
    "collapsed": false
   },
   "outputs": [
    {
     "data": {
      "text/plain": [
       "(13, 196)"
      ]
     },
     "execution_count": 30,
     "metadata": {},
     "output_type": "execute_result"
    }
   ],
   "source": [
    "age = dense_train.equipment_age\n",
    "(age<0).sum(), (age > 50).sum()"
   ]
  },
  {
   "cell_type": "markdown",
   "metadata": {},
   "source": [
    "Let's see what our variables look like here."
   ]
  },
  {
   "cell_type": "code",
   "execution_count": 31,
   "metadata": {
    "collapsed": false
   },
   "outputs": [
    {
     "data": {
      "text/plain": [
       "array([[<matplotlib.axes._subplots.AxesSubplot object at 0x115fbf090>,\n",
       "        <matplotlib.axes._subplots.AxesSubplot object at 0x117589490>],\n",
       "       [<matplotlib.axes._subplots.AxesSubplot object at 0x110778590>,\n",
       "        <matplotlib.axes._subplots.AxesSubplot object at 0x115af0fd0>]], dtype=object)"
      ]
     },
     "execution_count": 31,
     "metadata": {},
     "output_type": "execute_result"
    },
    {
     "data": {
      "image/png": "[encoded data removed]",
      "text/plain": [
       "<matplotlib.figure.Figure at 0x1176b7610>"
      ]
     },
     "metadata": {},
     "output_type": "display_data"
    }
   ],
   "source": [
    "pd.scatter_matrix(dense_train[['SalePrice', 'equipment_age']])"
   ]
  },
  {
   "cell_type": "markdown",
   "metadata": {},
   "source": [
    "Based on the graph above, it looks like there's a bit of a collection of outliers at around 60 years old. We might be able to filter those out, or want to build another model on them."
   ]
  },
  {
   "cell_type": "markdown",
   "metadata": {},
   "source": [
    "Ok, now we return to 1. above. We want to an average price of similar vehicle. There are many ways to think about similarity including:\n",
    "\n",
    "1. Geography (look at nearby sales)\n",
    "2. Time (look at recent sales)\n",
    "3. Vehicle (look at sales that are most similar in terms of vehicle)\n",
    "4. Similar usage\n",
    "5. Similar age\n",
    "etc.\n",
    "\n",
    "Ultimately choosing what similarity metric we should use is quite difficult, so for now let's try to do something easy and reasonable. What about the five most recent sales of the same modelid? \n",
    "\n",
    "If there aren't 5 such sales of course we'll have to do something else, but let's see how big that problem is before we solve it."
   ]
  },
  {
   "cell_type": "code",
   "execution_count": 32,
   "metadata": {
    "collapsed": false
   },
   "outputs": [],
   "source": [
    "#Set multi-level index and sort by modelid and saledate, so we can use window functions.\n",
    "#dense_train = dense_train.reset_index()\n",
    "dense_train.sort_values(by='saledate_converted', inplace=True)"
   ]
  },
  {
   "cell_type": "code",
   "execution_count": 33,
   "metadata": {
    "collapsed": false
   },
   "outputs": [],
   "source": [
    "m = dense_train.groupby('ModelID')['SalePrice'].apply(lambda x: x.rolling(5).agg([np.mean]))"
   ]
  },
  {
   "cell_type": "code",
   "execution_count": 35,
   "metadata": {
    "collapsed": true
   },
   "outputs": [],
   "source": [
    "from datetime import timedelta"
   ]
  },
  {
   "cell_type": "code",
   "execution_count": 36,
   "metadata": {
    "collapsed": false
   },
   "outputs": [],
   "source": [
    "z = pd.concat([m, dense_train[['saledate_converted', 'ModelID', 'SalesID']]], axis=1)\n",
    "z['saledate_converted'] = z.saledate_converted + timedelta(1)\n",
    "#Some days will have more than 1 transaction for a particular model, take the last mean (which has most info)\n",
    "z = z.groupby(['ModelID', 'saledate_converted']).apply(lambda x: x.tail(1))"
   ]
  },
  {
   "cell_type": "markdown",
   "metadata": {},
   "source": [
    "If we're going to use this as an input, we don't want to use an average value that could include the price of the vehicle we're trying to predict. So we'll want to shift the dates so that we can merge on the average we would have calculated the day before observing the transaction.\n",
    "\n",
    "This is a little tricky, we need to find the closest date that is less than the transaction date and for which we have an average.\n",
    "\n",
    "We're going to merge based on modelid and date then use fill forward to get the nearest value for any transaction (there will still be missing values)."
   ]
  },
  {
   "cell_type": "code",
   "execution_count": 37,
   "metadata": {
    "collapsed": false
   },
   "outputs": [
    {
     "name": "stderr",
     "output_type": "stream",
     "text": [
      "/Users/weizhicheung/anaconda2/lib/python2.7/site-packages/ipykernel/__main__.py:3: FutureWarning: sort(....) is deprecated, use sort_index(.....)\n",
      "  app.launch_new_instance()\n"
     ]
    }
   ],
   "source": [
    "near_price = pd.merge(z.drop('SalesID', axis=1), dense_train, how='outer', \n",
    "                      on=['ModelID', 'saledate_converted'])\n",
    "near_price = near_price.set_index(['ModelID', 'saledate_converted']).sort()\n",
    "g = near_price['mean'].groupby(level=0)\n",
    "near_price['filled_mean_price'] = g.transform(lambda x: x.fillna(method='ffill'))"
   ]
  },
  {
   "cell_type": "markdown",
   "metadata": {
    "collapsed": false
   },
   "source": [
    "Ok, in the dataset above, the observations missing a SalesID come only from our averages table and can be dropped."
   ]
  },
  {
   "cell_type": "code",
   "execution_count": 38,
   "metadata": {
    "collapsed": false
   },
   "outputs": [
    {
     "data": {
      "text/plain": [
       "(401125, 15)"
      ]
     },
     "execution_count": 38,
     "metadata": {},
     "output_type": "execute_result"
    }
   ],
   "source": [
    "near_price = near_price[near_price.SalesID.notnull()]\n",
    "near_price.shape"
   ]
  },
  {
   "cell_type": "markdown",
   "metadata": {},
   "source": [
    "Ok, we're getting there. Some of our transactions in this data set will not have a 'filled mean price' because there were no previously observed transactions. Fortunately there aren't too many such observations (though this is all within the training data, so it's likely that in reality we might encounter more such cases). It's possible we could build a separate model for predicing these transactions."
   ]
  },
  {
   "cell_type": "code",
   "execution_count": 39,
   "metadata": {
    "collapsed": false
   },
   "outputs": [
    {
     "data": {
      "text/plain": [
       "count    379643.000000\n",
       "mean      31099.690989\n",
       "std       21603.158082\n",
       "min        4950.000000\n",
       "25%       15000.000000\n",
       "50%       24300.000000\n",
       "75%       40600.000000\n",
       "max      140000.000000\n",
       "Name: filled_mean_price, dtype: float64"
      ]
     },
     "execution_count": 39,
     "metadata": {},
     "output_type": "execute_result"
    }
   ],
   "source": [
    "near_price.filled_mean_price.describe()"
   ]
  },
  {
   "cell_type": "markdown",
   "metadata": {},
   "source": [
    "What was the point of all this recent mean nonsense? Well, it was my belief that the recent mean would have predictive power of the saleprice. Was it worth it? The histogram of mean price - sale price should be instructive:"
   ]
  },
  {
   "cell_type": "code",
   "execution_count": 40,
   "metadata": {
    "collapsed": false
   },
   "outputs": [
    {
     "data": {
      "text/plain": [
       "<matplotlib.axes._subplots.AxesSubplot at 0x115ca4450>"
      ]
     },
     "execution_count": 40,
     "metadata": {},
     "output_type": "execute_result"
    },
    {
     "data": {
      "image/png": "[encoded data removed]",
      "text/plain": [
       "<matplotlib.figure.Figure at 0x10f16db50>"
      ]
     },
     "metadata": {},
     "output_type": "display_data"
    }
   ],
   "source": [
    "(near_price.filled_mean_price).hist()"
   ]
  },
  {
   "cell_type": "code",
   "execution_count": 41,
   "metadata": {
    "collapsed": false
   },
   "outputs": [
    {
     "data": {
      "text/plain": [
       "array([[<matplotlib.axes._subplots.AxesSubplot object at 0x115b84250>,\n",
       "        <matplotlib.axes._subplots.AxesSubplot object at 0x1189157d0>,\n",
       "        <matplotlib.axes._subplots.AxesSubplot object at 0x118d808d0>],\n",
       "       [<matplotlib.axes._subplots.AxesSubplot object at 0x118ded290>,\n",
       "        <matplotlib.axes._subplots.AxesSubplot object at 0x118eaf390>,\n",
       "        <matplotlib.axes._subplots.AxesSubplot object at 0x118f90c10>],\n",
       "       [<matplotlib.axes._subplots.AxesSubplot object at 0x11900eed0>,\n",
       "        <matplotlib.axes._subplots.AxesSubplot object at 0x11907b6d0>,\n",
       "        <matplotlib.axes._subplots.AxesSubplot object at 0x119139a50>]], dtype=object)"
      ]
     },
     "execution_count": 41,
     "metadata": {},
     "output_type": "execute_result"
    },
    {
     "data": {
      "image/png": "[encoded data removed]",
      "text/plain": [
       "<matplotlib.figure.Figure at 0x1184d56d0>"
      ]
     },
     "metadata": {},
     "output_type": "display_data"
    }
   ],
   "source": [
    "pd.scatter_matrix(near_price[['SalePrice', 'filled_mean_price', 'equipment_age']])"
   ]
  },
  {
   "cell_type": "code",
   "execution_count": 42,
   "metadata": {
    "collapsed": false
   },
   "outputs": [
    {
     "data": {
      "image/png": "[encoded data removed]",
      "text/plain": [
       "<matplotlib.figure.Figure at 0x11a012390>"
      ]
     },
     "metadata": {},
     "output_type": "display_data"
    }
   ],
   "source": [
    "def percentile_plots(x, y):\n",
    "    cuts = pd.cut(x, 20)\n",
    "    y.groupby(cuts).mean().plot()\n",
    "percentile_plots(near_price.filled_mean_price, near_price.SalePrice)"
   ]
  },
  {
   "cell_type": "code",
   "execution_count": 43,
   "metadata": {
    "collapsed": false
   },
   "outputs": [
    {
     "data": {
      "image/png": "[encoded data removed]",
      "text/plain": [
       "<matplotlib.figure.Figure at 0x12d954190>"
      ]
     },
     "metadata": {},
     "output_type": "display_data"
    }
   ],
   "source": [
    "percentile_plots(near_price.YearMade, near_price.SalePrice)"
   ]
  },
  {
   "cell_type": "markdown",
   "metadata": {},
   "source": [
    "So the mean price and sale price are definitely correlated here, it should certainly be helpful."
   ]
  },
  {
   "cell_type": "markdown",
   "metadata": {},
   "source": [
    "Ok, so we are now ready to build our first model. \n",
    "\n",
    "I've been building in this functionality into heavy_equipment_model.py, which you should take a look at now. This uses the same ideas as above, but implements it using the Pipeline class, which is (extremely, very) helpful for preventing target leakage.\n",
    "\n",
    "One thing we'll want to do now is set up a cross validation set. Our heldout set is future transactions, so we're going to want to choose a cv set using time as well. Let's see how we might do that."
   ]
  },
  {
   "cell_type": "code",
   "execution_count": 44,
   "metadata": {
    "collapsed": false
   },
   "outputs": [
    {
     "data": {
      "text/plain": [
       "<matplotlib.axes._subplots.AxesSubplot at 0x12d9df090>"
      ]
     },
     "execution_count": 44,
     "metadata": {},
     "output_type": "execute_result"
    },
    {
     "data": {
      "image/png": "[encoded data removed]",
      "text/plain": [
       "<matplotlib.figure.Figure at 0x12d9eb6d0>"
      ]
     },
     "metadata": {},
     "output_type": "display_data"
    }
   ],
   "source": [
    "dense_train.saledate_converted.hist()"
   ]
  },
  {
   "cell_type": "markdown",
   "metadata": {},
   "source": [
    "Ok, looks like we have more transactions recently, and we don't want to make our lives too hard by choosing a validation set that includes all of our most useful data."
   ]
  },
  {
   "cell_type": "code",
   "execution_count": 45,
   "metadata": {
    "collapsed": false
   },
   "outputs": [
    {
     "data": {
      "text/plain": [
       "0.7   2008-10-22\n",
       "0.8   2009-09-12\n",
       "0.9   2010-10-30\n",
       "1.0   2011-12-30\n",
       "Name: saledate_converted, dtype: datetime64[ns]"
      ]
     },
     "execution_count": 45,
     "metadata": {},
     "output_type": "execute_result"
    }
   ],
   "source": [
    "dense_train.saledate_converted.quantile([.7, .8, .9, 1])"
   ]
  },
  {
   "cell_type": "markdown",
   "metadata": {},
   "source": [
    "Based on this, I would say that we probably don't want to use the usual 70/30 split, because it looks like maybe there was a change in our data collection around 2009. We've got a little less than 10% of our data represented by 2011, which isn't a huge cv data set, but I think makes sense under the circumstances. If anything, it's on the small, side so it might be reasonable to consider other datasets."
   ]
  },
  {
   "cell_type": "code",
   "execution_count": 46,
   "metadata": {
    "collapsed": false
   },
   "outputs": [
    {
     "data": {
      "text/plain": [
       "<matplotlib.axes._subplots.AxesSubplot at 0x12da06a50>"
      ]
     },
     "execution_count": 46,
     "metadata": {},
     "output_type": "execute_result"
    },
    {
     "data": {
      "image/png": "[encoded data removed]",
      "text/plain": [
       "<matplotlib.figure.Figure at 0x12d9eb690>"
      ]
     },
     "metadata": {},
     "output_type": "display_data"
    }
   ],
   "source": [
    "(near_price.filled_mean_price-near_price.SalePrice).hist()"
   ]
  },
  {
   "cell_type": "markdown",
   "metadata": {},
   "source": [
    "Once we've fit a model, we're ready to iterate. A good way to prioritize future efforts would be to look at the residuals of our model and how the correlate with some of our predictors (either ones already included in the model or not). For example, if I thought state might be important, I could see if there are any significant differences in the residuals by state (using a boxplot visually, or a statistical test). If so, then I could decide to include that. We've taken the easy way out re: a lot of our variables with missing values, but we might be able to do some transformations to make them work out better."
   ]
  },
  {
   "cell_type": "markdown",
   "metadata": {},
   "source": [
    "## Laundry list of future work.\n",
    "\n",
    "If we run the model in `heavy_equipment_model.py`, we get a RMSLE on our own cross validation data set of $~.34$. This chooses the optimal number of similar transactions via cross validation (5 is considered the best). Some other things to do:\n",
    "\n",
    "1. Work on machine hours.\n",
    "2. Check the 4 and 6 values for similarity.\n",
    "3. Cross validate different imputation techniques for age outliers (mean, median etc.)\n",
    "5. See if there are any spatial relationships (space for example).\n",
    "6. Try to fit a more sophisticated model.\n",
    "7. Maybe fit a separate model for very old models, the scatter plot of equipment age shows two separate clusters.\n",
    "8. Include other features which we discarded for being too sparse.\n",
    "9. Extract information from unstructured text."
   ]
  },
  {
   "cell_type": "code",
   "execution_count": 47,
   "metadata": {
    "collapsed": true
   },
   "outputs": [],
   "source": [
    "import pandas as pd\n",
    "import numpy as np\n",
    "from sklearn.ensemble import RandomForestRegressor"
   ]
  },
  {
   "cell_type": "markdown",
   "metadata": {},
   "source": [
    "# Read the data"
   ]
  },
  {
   "cell_type": "code",
   "execution_count": null,
   "metadata": {
    "collapsed": false
   },
   "outputs": [],
   "source": [
    "df_train = pd.read_csv('data/Train.csv')\n",
    "df_test = pd.read_csv('data/test.csv')"
   ]
  },
  {
   "cell_type": "markdown",
   "metadata": {},
   "source": [
    "# Preprocess & Feature Engineer"
   ]
  },
  {
   "cell_type": "code",
   "execution_count": null,
   "metadata": {
    "collapsed": false
   },
   "outputs": [],
   "source": [
    "def preprocess(df):\n",
    "    df['sale_year'] = pd.to_datetime(df['saledate']).apply(lambda x: x.year)\n",
    "    df['age'] = df['sale_year'] - df['YearMade']\n",
    "\n",
    "preprocess(df_train)\n",
    "preprocess(df_test)"
   ]
  },
  {
   "cell_type": "code",
   "execution_count": null,
   "metadata": {
    "collapsed": true
   },
   "outputs": [],
   "source": [
    "def preprocess2(df):\n",
    "    df = pd.concat([df, pd.get_dummies(df['UsageBand'])], axis=1)\n",
    "    return df\n",
    "\n",
    "df_train = preprocess2(df_train)\n",
    "df_test = preprocess2(df_test)"
   ]
  },
  {
   "cell_type": "markdown",
   "metadata": {},
   "source": [
    "# Train a Random Forest on only a few good features"
   ]
  },
  {
   "cell_type": "code",
   "execution_count": null,
   "metadata": {
    "collapsed": true
   },
   "outputs": [],
   "source": [
    "features = ['ModelID', 'YearMade', 'age'] #, 'MachineHoursCurrentMeter', 'datasource', 'Low', 'Medium', 'High']\n",
    "\n",
    "X_train, y_train = df_train[features].fillna(-1), df_train['SalePrice']\n",
    "\n",
    "model = RandomForestRegressor(50, n_jobs=2)\n",
    "model.fit(X_train, y_train)\n",
    "\n",
    "y_prediction = model.predict(df_test[features].fillna(-1))"
   ]
  },
  {
   "cell_type": "markdown",
   "metadata": {},
   "source": [
    "# Output our answers"
   ]
  },
  {
   "cell_type": "code",
   "execution_count": null,
   "metadata": {
    "collapsed": true
   },
   "outputs": [],
   "source": [
    "df_output = pd.DataFrame({'SalePrice': y_prediction}, index=df_test['SalesID'])\n",
    "df_output.to_csv('answers.csv')"
   ]
  },
  {
   "cell_type": "code",
   "execution_count": null,
   "metadata": {
    "collapsed": true
   },
   "outputs": [],
   "source": []
  }
 ],
 "metadata": {
  "kernelspec": {
   "display_name": "Python 2",
   "language": "python",
   "name": "python2"
  },
  "language_info": {
   "codemirror_mode": {
    "name": "ipython",
    "version": 2
   },
   "file_extension": ".py",
   "mimetype": "text/x-python",
   "name": "python",
   "nbconvert_exporter": "python",
   "pygments_lexer": "ipython2",
   "version": "2.7.13"
  }
 },
 "nbformat": 4,
 "nbformat_minor": 0
}
